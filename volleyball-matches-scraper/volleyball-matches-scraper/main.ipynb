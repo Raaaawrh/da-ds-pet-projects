{
 "cells": [
  {
   "cell_type": "code",
   "execution_count": null,
   "metadata": {},
   "outputs": [],
   "source": [
    "from utils import DatabaseManager, UserAgentManager, Scraper\n",
    "\n",
    "from entities import Match\n",
    "import logging\n",
    "\n",
    "from typing import List\n",
    "from tqdm.auto import tqdm\n",
    "\n",
    "import asyncio\n",
    "\n",
    "import nest_asyncio\n",
    "nest_asyncio.apply()\n",
    "\n",
    "import logging\n",
    "logging.getLogger('stem').setLevel(logging.CRITICAL)\n"
   ]
  },
  {
   "cell_type": "code",
   "execution_count": null,
   "metadata": {},
   "outputs": [],
   "source": [
    "db_manager = DatabaseManager('../data/volleyball_world.sqlite')\n",
    "user_agent_manager = UserAgentManager(\n",
    "    password='password', logger_level=logging.INFO)\n",
    "\n",
    "match_ids = list(range(1, 10000+1))"
   ]
  },
  {
   "cell_type": "code",
   "execution_count": null,
   "metadata": {},
   "outputs": [],
   "source": [
    "async with Scraper(domain='https://en.volleyballworld.com/',\n",
    "                       uam=user_agent_manager,\n",
    "                       min_delay=2,\n",
    "                       max_delay=5,\n",
    "                       logger_level=logging.ERROR) as scraper:\n",
    "        for match_id in tqdm(match_ids):\n",
    "            page_path = f'volleyball/competitions/volleyball-nations-league/schedule/{match_id}'\n",
    "            while True:\n",
    "                try:\n",
    "                    page = (await scraper.get_page(page_path))[0]\n",
    "                    break\n",
    "                except Exception as e:\n",
    "                    print (f'Exception occured fetching match #{match_id} -- {e}. Retrying.')\n",
    "            match_obj = Match(match_id, page)\n",
    "            match_info = match_obj.get_match_info()\n",
    "            teams_in_match_info = match_obj.get_team_in_match_info()\n",
    "            teams_in_set_info = match_obj.get_team_in_set_info()\n",
    "            players_statistics = match_obj.get_players_results_info()\n",
    "\n",
    "            db_manager.insert(match_info=match_info,\n",
    "                              teams_in_match_info=teams_in_match_info,\n",
    "                              teams_in_set_info=teams_in_set_info,\n",
    "                              players_statistics=players_statistics)       "
   ]
  }
 ],
 "metadata": {
  "kernelspec": {
   "display_name": ".venv",
   "language": "python",
   "name": "python3"
  },
  "language_info": {
   "codemirror_mode": {
    "name": "ipython",
    "version": 3
   },
   "file_extension": ".py",
   "mimetype": "text/x-python",
   "name": "python",
   "nbconvert_exporter": "python",
   "pygments_lexer": "ipython3",
   "version": "3.10.12"
  }
 },
 "nbformat": 4,
 "nbformat_minor": 2
}
