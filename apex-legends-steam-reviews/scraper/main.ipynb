{
 "cells": [
  {
   "cell_type": "markdown",
   "metadata": {},
   "source": [
    "# Сбор данных\n",
    "\n",
    "Код в этом файле собирает данные об отзывах."
   ]
  },
  {
   "cell_type": "code",
   "execution_count": 1,
   "metadata": {},
   "outputs": [],
   "source": [
    "from scraper import Scraper\n",
    "import pandas as pd\n",
    "\n",
    "from datetime import datetime"
   ]
  },
  {
   "cell_type": "code",
   "execution_count": null,
   "metadata": {},
   "outputs": [],
   "source": [
    "scraper = Scraper('https://steamcommunity.com/app/1172470/reviews/?p=1&browsefilter=mostrecent', 100000)\n",
    "scraper.scrape_reviews()\n",
    "\n",
    "data = scraper.reviews"
   ]
  },
  {
   "cell_type": "code",
   "execution_count": 5,
   "metadata": {},
   "outputs": [],
   "source": [
    "data = pd.DataFrame(scraper.reviews, columns=['Date', 'Play Time', 'Text', 'Recommended'])"
   ]
  },
  {
   "cell_type": "code",
   "execution_count": 7,
   "metadata": {},
   "outputs": [],
   "source": [
    "data['Recommended'] = data['Recommended'].map({'Recommended': True, 'Not Recommended': False})"
   ]
  },
  {
   "cell_type": "code",
   "execution_count": 16,
   "metadata": {},
   "outputs": [],
   "source": [
    "data['Play Hours'] = data['Play Time'].apply(lambda x: float(''.join([s for s in x if s.isdigit() or s == '.'])))"
   ]
  },
  {
   "cell_type": "code",
   "execution_count": null,
   "metadata": {},
   "outputs": [],
   "source": [
    "data['Date'] = data['Date'].apply(lambda x: x.replace('Posted: ', ''))\n",
    "data['Date'] = data['Date'].apply(lambda x: ''.join([s for s in x if s.isdigit()]) + ' ' + ''.join([s for s in x if s.isalpha()]))\n",
    "data['Date'] = data['Date'].apply(lambda x: datetime.strptime(x + ' 2024', '%d %B %Y'))"
   ]
  },
  {
   "cell_type": "code",
   "execution_count": 28,
   "metadata": {},
   "outputs": [],
   "source": [
    "data = data[['Date', 'Play Hours', 'Text', 'Recommended']]"
   ]
  },
  {
   "cell_type": "code",
   "execution_count": 29,
   "metadata": {},
   "outputs": [],
   "source": [
    "data.to_csv('../data/apex-legends-steam-reviews.csv')"
   ]
  },
  {
   "cell_type": "code",
   "execution_count": 32,
   "metadata": {},
   "outputs": [
    {
     "name": "stdout",
     "output_type": "stream",
     "text": [
      "<class 'pandas.core.frame.DataFrame'>\n",
      "RangeIndex: 14690 entries, 0 to 14689\n",
      "Data columns (total 4 columns):\n",
      " #   Column       Non-Null Count  Dtype         \n",
      "---  ------       --------------  -----         \n",
      " 0   Date         14690 non-null  datetime64[ns]\n",
      " 1   Play Hours   14690 non-null  float64       \n",
      " 2   Text         14690 non-null  object        \n",
      " 3   Recommended  14690 non-null  bool          \n",
      "dtypes: bool(1), datetime64[ns](1), float64(1), object(1)\n",
      "memory usage: 358.8+ KB\n"
     ]
    }
   ],
   "source": [
    "data.info()"
   ]
  }
 ],
 "metadata": {
  "kernelspec": {
   "display_name": "apex-legends-steam-reviews-env",
   "language": "python",
   "name": "python3"
  },
  "language_info": {
   "codemirror_mode": {
    "name": "ipython",
    "version": 3
   },
   "file_extension": ".py",
   "mimetype": "text/x-python",
   "name": "python",
   "nbconvert_exporter": "python",
   "pygments_lexer": "ipython3",
   "version": "3.12.4"
  }
 },
 "nbformat": 4,
 "nbformat_minor": 2
}
